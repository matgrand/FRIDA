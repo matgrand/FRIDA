{
 "cells": [
  {
   "cell_type": "code",
   "execution_count": 2,
   "metadata": {},
   "outputs": [],
   "source": [
    "import os"
   ]
  },
  {
   "cell_type": "code",
   "execution_count": 7,
   "metadata": {},
   "outputs": [
    {
     "name": "stdout",
     "output_type": "stream",
     "text": [
      "fun_Gauss_points_triangle_stable_mex.mexw64\n",
      "fun_calcGradientNodes_FEM_mex.mexw64\n",
      "fun_evaluateFluxGaussPoints_v2_mex.mexw64\n",
      "klu.mexw64\n",
      "fun_StiffMat_FEM_fast_mex.mexw64\n",
      "fun_calcSourceFEM_v2_mex.mexw64\n",
      "fun_lati_fast_mex.mexw64\n",
      "cs_lusol.mexw64\n",
      "fun_calcGradientGauss_FEM_mex.mexw64\n",
      "fun_dSource_Dpsi_type_2_par_mex.mexw64\n",
      "fun_dSource_Dpsi_type_1_mex.mexw64\n",
      "fun_MatInd_nodes_tri_fast_mex.mexw64\n",
      "fun_ind_t_on_separatrix_mex.mexw64\n",
      "fun_shape_functions_stable_mex.mexw64\n",
      "umfpack.mexw64\n",
      "fun_dSource_Dpsi_type_1_par_mex.mexw64\n"
     ]
    }
   ],
   "source": [
    "# for item in os.listdir('../source/routines_FRIDA/'):\n",
    "items = [x for x in os.listdir('../source/routines_FRIDA/') if 'mex' in x]\n",
    "for x in items:\n",
    "    print(x)"
   ]
  },
  {
   "cell_type": "code",
   "execution_count": null,
   "metadata": {},
   "outputs": [],
   "source": []
  }
 ],
 "metadata": {
  "kernelspec": {
   "display_name": "Python 3",
   "language": "python",
   "name": "python3"
  },
  "language_info": {
   "codemirror_mode": {
    "name": "ipython",
    "version": 3
   },
   "file_extension": ".py",
   "mimetype": "text/x-python",
   "name": "python",
   "nbconvert_exporter": "python",
   "pygments_lexer": "ipython3",
   "version": "3.9.18"
  }
 },
 "nbformat": 4,
 "nbformat_minor": 2
}
